{
 "cells": [
  {
   "cell_type": "markdown",
   "metadata": {},
   "source": [
    "# Start mit Jupyter-Lab\n",
    "\n",
    "Zellen können kollabiert werden durch Klick auf den blauen Balken links"
   ]
  },
  {
   "cell_type": "code",
   "execution_count": 3,
   "metadata": {
    "jupyter": {
     "source_hidden": true
    }
   },
   "outputs": [
    {
     "name": "stdout",
     "output_type": "stream",
     "text": [
      "Hello, world\n",
      "abc\n",
      "abc\n"
     ]
    }
   ],
   "source": [
    "print(\"Hello, world\")\n",
    "print(\"abc\")\n",
    "print(\"abc\")"
   ]
  },
  {
   "cell_type": "markdown",
   "metadata": {},
   "source": [
    "# Das ist eine Markdown-Zelle\n",
    "\n",
    " - Python installieren\n",
    " \n",
    " - Jupyter-Lab installieren: Windows: `pip install jupyterlab` resp. Mac `pip3 install jupyterlab`\n",
    "\n",
    "\n",
    "\n",
    "\n",
    "**fett** und *kursiv*\n",
    "\n",
    "**Aufzählung:**\n",
    " - erstes Item\n",
    " - zweites Item\n",
    " \n",
    "**Code** :  `inline` oder als Block\n",
    " ```python\n",
    "def bla():\n",
    "    for i in range(10):\n",
    "        print(\"blabla\")\n",
    "```\n",
    "\n",
    "horizontale Linie: \n",
    "___\n"
   ]
  },
  {
   "cell_type": "markdown",
   "metadata": {},
   "source": [
    "Mathematik : \n",
    "$x = 2 \\Longrightarrow \\dfrac{x^2}{4} \\quad \\frac{x^2}{4}$\n",
    "\n",
    "$\\begin{align*}\n",
    "2x & + 3y & = 4 \\\\\n",
    "-x & + 7y & = 8\n",
    "\\end{align*}$\n",
    "\n",
    "$\n",
    "\\sqrt{a\\cdot (b+1)}\n",
    "$"
   ]
  },
  {
   "cell_type": "code",
   "execution_count": 2,
   "metadata": {},
   "outputs": [
    {
     "data": {
      "text/plain": [
       "81"
      ]
     },
     "execution_count": 2,
     "metadata": {},
     "output_type": "execute_result"
    }
   ],
   "source": [
    "3**4"
   ]
  },
  {
   "cell_type": "markdown",
   "metadata": {},
   "source": []
  }
 ],
 "metadata": {
  "kernelspec": {
   "display_name": "Python 3",
   "language": "python",
   "name": "python3"
  },
  "language_info": {
   "codemirror_mode": {
    "name": "ipython",
    "version": 3
   },
   "file_extension": ".py",
   "mimetype": "text/x-python",
   "name": "python",
   "nbconvert_exporter": "python",
   "pygments_lexer": "ipython3",
   "version": "3.8.5"
  }
 },
 "nbformat": 4,
 "nbformat_minor": 4
}
